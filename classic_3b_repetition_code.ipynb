{
 "cells": [
  {
   "cell_type": "markdown",
   "metadata": {},
   "source": [
    "Author : Richard A. Wolf\n",
    "Last update : March 2024"
   ]
  },
  {
   "cell_type": "code",
   "execution_count": null,
   "metadata": {},
   "outputs": [],
   "source": [
    "from random import randint\n",
    "from copy import deepcopy"
   ]
  },
  {
   "cell_type": "code",
   "execution_count": 2,
   "metadata": {},
   "outputs": [],
   "source": [
    "def encode(bit):\n",
    "    \"\"\"Encodes a single bit using the 3-repetition code.\"\"\"\n",
    "    return [bit, bit, bit]"
   ]
  },
  {
   "cell_type": "code",
   "execution_count": 3,
   "metadata": {},
   "outputs": [],
   "source": [
    "def majority_vote(message):\n",
    "    \"\"\"Given a message of 0s and 1s, returns whichever is the most frequent.\"\"\"\n",
    "    number_of_0s = 0\n",
    "    number_of_1s = 0\n",
    "    for digit in message:\n",
    "        if digit == 0:\n",
    "            number_of_0s += 1\n",
    "        else:\n",
    "            number_of_1s += 1\n",
    "    winner = None\n",
    "    if number_of_1s > number_of_0s:\n",
    "        winner = 1\n",
    "    else: #number_of_1s  number_of_0s\n",
    "        winner = 0\n",
    "    return winner"
   ]
  },
  {
   "cell_type": "code",
   "execution_count": 4,
   "metadata": {},
   "outputs": [],
   "source": [
    "def NOT(bit):\n",
    "    \"\"\"Given a bit, performs the logical NOT operation.\"\"\"\n",
    "    not_bit = None\n",
    "    if bit == 0:\n",
    "        not_bit = 1\n",
    "    else: # bit == 1\n",
    "        not_bit = 0\n",
    "    return not_bit"
   ]
  },
  {
   "cell_type": "code",
   "execution_count": 5,
   "metadata": {},
   "outputs": [],
   "source": [
    "def decode(m):\n",
    "    \"\"\"Decode a message encoded with 3-bit repetition by majority vote.\"\"\"\n",
    "    message = deepcopy(m)\n",
    "    correct_value = majority_vote(message)\n",
    "    incorrect_value = NOT(correct_value)\n",
    "    for i in range(3):\n",
    "        current_bit = message[i]\n",
    "        if current_bit == incorrect_value:\n",
    "            corrected_bit = NOT(current_bit)\n",
    "            message[i] = corrected_bit\n",
    "    return message"
   ]
  },
  {
   "cell_type": "code",
   "execution_count": 6,
   "metadata": {},
   "outputs": [],
   "source": [
    "def noisy_channel(m):\n",
    "    \"\"\"Applies a bit-flip noise to the message with 10% probability.\"\"\"\n",
    "    message = deepcopy(m)\n",
    "    for i in range(3):\n",
    "        flip_coin = randint(1,10)\n",
    "        if flip_coin < 3:\n",
    "            current_bit = message[i]\n",
    "            corrupted_bit = NOT(current_bit)\n",
    "            message[i] = corrupted_bit\n",
    "    return message"
   ]
  },
  {
   "cell_type": "code",
   "execution_count": 7,
   "metadata": {},
   "outputs": [
    {
     "name": "stdout",
     "output_type": "stream",
     "text": [
      "\n",
      "Received == Original ? False\n",
      "Corrected == Original ? True\n",
      "\n",
      "Received == Original ? True\n",
      "Corrected == Original ? True\n",
      "\n",
      "Received == Original ? False\n",
      "Corrected == Original ? True\n",
      "\n",
      "Received == Original ? False\n",
      "Corrected == Original ? False\n",
      "Failed to correct: [0, 1, 1] into [0, 0, 0]\n",
      "\n",
      "Received == Original ? False\n",
      "Corrected == Original ? False\n",
      "Failed to correct: [0, 1, 1] into [0, 0, 0]\n",
      "\n",
      "Received == Original ? False\n",
      "Corrected == Original ? True\n",
      "\n",
      "Received == Original ? False\n",
      "Corrected == Original ? True\n",
      "\n",
      "Received == Original ? True\n",
      "Corrected == Original ? True\n",
      "\n",
      "Received == Original ? True\n",
      "Corrected == Original ? True\n",
      "\n",
      "Received == Original ? False\n",
      "Corrected == Original ? True\n"
     ]
    }
   ],
   "source": [
    "my_bit = 0\n",
    "my_encoded_message = encode(my_bit)\n",
    "my_original_encoded_message = deepcopy(my_encoded_message)\n",
    "\n",
    "for _ in range(10):\n",
    "\n",
    "    received_message = noisy_channel(my_encoded_message)\n",
    "\n",
    "    corrected_message = decode(received_message)\n",
    "\n",
    "    received_is_same_as_original = received_message == my_original_encoded_message\n",
    "    print(f\"\\nReceived == Original ? {received_is_same_as_original}\")\n",
    "\n",
    "    corrected_is_same_as_original = corrected_message == my_original_encoded_message\n",
    "    print(f\"Corrected == Original ? {corrected_is_same_as_original}\")\n",
    "    if not corrected_is_same_as_original:\n",
    "        print(f\"Failed to correct: {received_message} into {my_original_encoded_message}\")"
   ]
  }
 ],
 "metadata": {
  "kernelspec": {
   "display_name": "Python 3",
   "language": "python",
   "name": "python3"
  },
  "language_info": {
   "codemirror_mode": {
    "name": "ipython",
    "version": 3
   },
   "file_extension": ".py",
   "mimetype": "text/x-python",
   "name": "python",
   "nbconvert_exporter": "python",
   "pygments_lexer": "ipython3",
   "version": "3.9.6"
  }
 },
 "nbformat": 4,
 "nbformat_minor": 2
}
